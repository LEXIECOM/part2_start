{
 "cells": [
  {
   "cell_type": "code",
   "execution_count": 11,
   "metadata": {},
   "outputs": [],
   "source": [
    "import pandas as pd\n",
    "import numpy as np\n",
    "\n",
    "from sklearn.model_selection import cross_val_score\n",
    "from sklearn.metrics import roc_auc_score\n",
    "from sklearn.metrics import accuracy_score\n",
    "from sklearn.pipeline import Pipeline\n",
    "from sklearn.compose import ColumnTransformer\n",
    "from sklearn.impute import SimpleImputer\n",
    "from sklearn.preprocessing import OneHotEncoder\n",
    "from sklearn.ensemble import RandomForestClassifier\n",
    "\n",
    "##Seaborn for fancy plots. \n",
    "import matplotlib.pyplot as plt\n",
    "import seaborn as sns\n",
    "plt.rcParams[\"figure.figsize\"] = (8,8)"
   ]
  },
  {
   "attachments": {},
   "cell_type": "markdown",
   "metadata": {},
   "source": [
    "## 3950 Assignment 1: Part 2\n",
    "\n",
    "For this assignment we want to use some sort of tree based model to classify the data below. We have a very small training set, so overfitting is a very real concern. \n",
    "\n",
    "Some specifics for this assignment:\n",
    "<ul>\n",
    "<li>Please use the show_eda to control if EDA stuff is shown. I don't really need to see all the EDA stuff (nor do you after you've done it), so we can make it configurable with a variable to speed up time. Please set this FALSE when you submit, so I can run all and see the outcome without histograms etc...\n",
    "<li>Please ensure that whatever model you end up with is in a variable named best at the end.\n",
    "<li>Please use some pipeline in prepping the data. The test data is in an identical format to the training data, so whatever pipeline you've created for your training will work for the testing. \n",
    "<li>The accuracy scoring will be an average of accuracy and roc_auc. \n",
    "</ul>\n",
    "\n",
    "### Grading Metrics\n",
    "<ul>\n",
    "<li><b>Pipeline Used - 10pts</b> The data loading needs to be in a pipeline. See the test part for illustration. When testing I'll call your pipe with the new data (format is identical to training), so any prep stuff should be in the pipeline. \n",
    "<li><b>Tree Based Model Used - 5pts</b> The model used for classification needs to be some variety of tree, beyond that it is up to you. \n",
    "<li><b>Accuracy - 5pts</b> The final accuracy acheived. This will be a rough ranking, I'm assuming most people will get a similar level of accuracy, marks will only be deducted if yours is far wosrse, as that's an indication that you probably didn't take any/many steps to improve things. \n",
    "<li><b>Clarity and Formatting - 5pts</b> Is it organized and can I read it?\n",
    "    <ul>\n",
    "    <li> <b>Note:</b> for this assignment, and in general, please get rid of my comments and replace them with your own. I'm going to read this, so all of these instructions aren't really required. Think of this as a template, get rid of the stuff that isn't needed, and leave only the things you need to explain your code. \n",
    "    </ul>\n",
    "</ul>\n",
    "\n",
    "For submission, please drop the URL for your repository in the dropbox."
   ]
  },
  {
   "cell_type": "code",
   "execution_count": 12,
   "metadata": {},
   "outputs": [],
   "source": [
    "name = \"Tolulope Falaki\"\n",
    "\n",
    "show_eda = False"
   ]
  },
  {
   "cell_type": "code",
   "execution_count": 13,
   "metadata": {},
   "outputs": [
    {
     "name": "stdout",
     "output_type": "stream",
     "text": [
      "     target  var_1  var_2  var_3  var_4  var_5  var_6  var_7  var_8  var_9  \\\n",
      "144       1  0.926  0.657  0.726  0.675  0.547  0.206  0.094  0.773  0.897   \n",
      "177       1  0.072  0.308  0.007  0.626  0.809  0.578  0.003  0.472  0.014   \n",
      "11        0  0.716  0.534  0.857  0.493  0.963  0.852  0.975  0.176  0.048   \n",
      "82        0  0.654  0.980  0.241  0.674  0.920  0.983  0.076  0.886  0.380   \n",
      "51        1  0.944  0.821  0.079  0.581  0.439  0.210  0.544  0.536  0.771   \n",
      "\n",
      "     ...  var_191  var_192  var_193  var_194  var_195  var_196  var_197  \\\n",
      "144  ...    0.945    0.627    0.611    0.005    0.475    0.050    0.561   \n",
      "177  ...    0.944    0.792    0.130    0.911    0.867    0.043    0.570   \n",
      "11   ...    0.348    0.794    0.487    0.749    0.630    0.919    0.448   \n",
      "82   ...    0.747    0.250    0.659    0.115    0.379    0.630    0.939   \n",
      "51   ...    0.801    0.876    0.917    0.429    0.672    0.548    0.298   \n",
      "\n",
      "     var_198  var_199  var_200  \n",
      "144    0.754    0.681    0.319  \n",
      "177    0.261    0.059    0.989  \n",
      "11     0.112    0.050    0.385  \n",
      "82     0.267    0.205    0.557  \n",
      "51     0.348    0.985    0.646  \n",
      "\n",
      "[5 rows x 201 columns]\n"
     ]
    }
   ],
   "source": [
    "\n",
    "# Loading the training data\n",
    "df = pd.read_csv('training.csv')\n",
    "\n",
    "if 'id' in df.columns:\n",
    "    df = df.drop(columns=[\"id\"])\n",
    "\n",
    "# sample of the data display\n",
    "print(df.sample(5))\n"
   ]
  },
  {
   "cell_type": "markdown",
   "metadata": {},
   "source": [
    "### Starting\n",
    "\n",
    "For this assignment, you have a small training set, so combatting overfitting is key in being accurate!"
   ]
  },
  {
   "cell_type": "code",
   "execution_count": 14,
   "metadata": {},
   "outputs": [
    {
     "data": {
      "text/plain": [
       "(250, 201)"
      ]
     },
     "execution_count": 14,
     "metadata": {},
     "output_type": "execute_result"
    }
   ],
   "source": [
    "df.shape"
   ]
  },
  {
   "attachments": {},
   "cell_type": "markdown",
   "metadata": {},
   "source": [
    "#### Do Modelling Stuff\n",
    "\n",
    "Make a tree model (of some vareity) and make it fit well. Keep in mind the possibility of your tree overfitting, and think of steps you may need to combat that shoudl it occur. "
   ]
  },
  {
   "cell_type": "code",
   "execution_count": 16,
   "metadata": {},
   "outputs": [],
   "source": [
    "\n",
    "# Initially, numeric_features was defined using column names from the DataFrame.\n",
    "# However, during testing, the ColumnTransformer needs to handle inputs as NumPy arrays without column names.\n",
    "# Therefore, i redefine numeric_features using column indices\n",
    "# This change ensures that the ColumnTransformer can process the test data correctly during testing,\n",
    "# even when the data comes as a NumPy array without column names.\n",
    "\n",
    "# Generate a list of feature indices (excluding the last column which is the target)\n",
    "numeric_features = [i for i in range(df.shape[1] - 1)]  \n",
    "\n",
    "# Define a pipeline for numerical feature transformation,\n",
    "# which includes a SimpleImputer to fill in any missing values with the median of the column\n",
    "numeric_transformer = Pipeline(steps=[\n",
    "    ('imputer', SimpleImputer(strategy='median'))\n",
    "])\n",
    "\n",
    "# Define the preprocessor as a ColumnTransformer,\n",
    "# which applies the numeric_transformer pipeline to the numerical features\n",
    "preprocessor = ColumnTransformer(\n",
    "    transformers=[\n",
    "        ('num', numeric_transformer, numeric_features)\n",
    "    ]\n",
    ")\n",
    "\n"
   ]
  },
  {
   "cell_type": "code",
   "execution_count": 17,
   "metadata": {},
   "outputs": [],
   "source": [
    "\n",
    "#  model pipeline\n",
    "model = Pipeline(steps=[\n",
    "    ('preprocessor', preprocessor),\n",
    "    ('classifier', RandomForestClassifier(random_state=42))\n",
    "])"
   ]
  },
  {
   "cell_type": "code",
   "execution_count": 18,
   "metadata": {},
   "outputs": [],
   "source": [
    "from sklearn.tree import DecisionTreeClassifier\n",
    "from sklearn.model_selection import train_test_split\n",
    "\n",
    "# Splitting the data\n",
    "X = df.drop(columns=[\"target\"])\n",
    "y = df[\"target\"]\n",
    "X_train, X_test, y_train, y_test = train_test_split(X, y, test_size=0.2, random_state=42)\n",
    "\n",
    "# Creating the pipeline\n",
    "from sklearn.ensemble import RandomForestClassifier\n",
    "\n",
    "model = Pipeline(steps=[('preprocessor', preprocessor),\n",
    "                        ('classifier', RandomForestClassifier(random_state=42))])\n",
    "\n"
   ]
  },
  {
   "cell_type": "code",
   "execution_count": 19,
   "metadata": {},
   "outputs": [
    {
     "name": "stdout",
     "output_type": "stream",
     "text": [
      "ROC AUC scores: [0.59875    0.635      0.5802005  0.60401003 0.71679198]\n",
      "Average ROC AUC score: 0.6269505012531329\n"
     ]
    }
   ],
   "source": [
    "from sklearn.model_selection import cross_val_score\n",
    "\n",
    "# model evaluation\n",
    "scores = cross_val_score(model, X_train, y_train, cv=5, scoring='roc_auc')\n",
    "print(\"ROC AUC scores:\", scores)\n",
    "print(\"Average ROC AUC score:\", scores.mean())\n"
   ]
  },
  {
   "cell_type": "markdown",
   "metadata": {},
   "source": [
    "### Finishing\n",
    "\n",
    "At the conclusion, please name your best model \"best\". If you look down below in the testing stuff, it should be usable to score as \"best\". \n",
    "\n",
    "You should be able to call it like this and it should work (with whatever data names you have)"
   ]
  },
  {
   "cell_type": "code",
   "execution_count": 20,
   "metadata": {},
   "outputs": [
    {
     "name": "stdout",
     "output_type": "stream",
     "text": [
      "0.56\n",
      "Pipeline(steps=[('preprocessor',\n",
      "                 ColumnTransformer(transformers=[('num',\n",
      "                                                  Pipeline(steps=[('imputer',\n",
      "                                                                   SimpleImputer(strategy='median'))]),\n",
      "                                                  [0, 1, 2, 3, 4, 5, 6, 7, 8, 9,\n",
      "                                                   10, 11, 12, 13, 14, 15, 16,\n",
      "                                                   17, 18, 19, 20, 21, 22, 23,\n",
      "                                                   24, 25, 26, 27, 28, 29, ...])])),\n",
      "                ('classifier', RandomForestClassifier(random_state=42))])\n"
     ]
    }
   ],
   "source": [
    "\n",
    "best = model.fit(X_train, y_train)\n",
    "print(best.score(X_test, y_test))\n",
    "print(best)"
   ]
  },
  {
   "cell_type": "markdown",
   "metadata": {},
   "source": [
    "### Testing\n",
    "\n",
    "Please leave the stuff below as-is in your file. \n",
    "\n",
    "This will take your best model and score it with the test data. If you want to test to make sure that yours works, make a copy of the data file and rename it testing.csv, then make sure this runs ok. I will do the same, but the contents of my test file will be different. "
   ]
  },
  {
   "cell_type": "code",
   "execution_count": null,
   "metadata": {},
   "outputs": [],
   "source": [
    "#Load Test Data\n",
    "test_df = pd.read_csv(\"testing.csv\")\n",
    "test_df = test_df.drop(columns={\"id\"})\n",
    "#Create tests and score\n",
    "test_y = np.array(test_df[\"target\"]).reshape(-1,1)\n",
    "test_X = np.array(test_df.drop(columns={\"target\"}))\n",
    "\n",
    "preds = best.predict(test_X)\n",
    "\n",
    "roc_score = roc_auc_score(test_y, preds)\n",
    "acc_score = accuracy_score(test_y, preds)\n",
    "\n",
    "print(roc_score)\n",
    "print(acc_score)\n",
    "print(name, np.mean([roc_score, acc_score]))\n",
    "\n",
    "\n"
   ]
  },
  {
   "attachments": {},
   "cell_type": "markdown",
   "metadata": {},
   "source": [
    "### What Accuracy Changes Were Used\n",
    "\n",
    "Please list here what you did to try to increase accuracy and/or limit overfitting:\n",
    "<ul>\n",
    "<li>\n",
    "<li>\n",
    "</ul>"
   ]
  },
  {
   "cell_type": "markdown",
   "metadata": {},
   "source": [
    "Splitting the Data: The data was split into training and testing sets to ensure that there was a set of unseen data to evaluate the model's performance and to prevent it from learning the noise specific to the training set.\n",
    "\n",
    "Cross-Validation: Cross-validation was used to evaluate the model's performance. This technique involves partitioning the data into subsets, training the model on some subsets (training set) and evaluating it on the remaining subsets (validation set). This helps ensure the model's ability to generalize to unseen data.\n",
    "\n",
    "Random Forest Classifier: By choosing a RandomForestClassifier, which is an ensemble of decision trees, the model inherently has a reduction in overfitting compared to individual decision trees. This is because it averages out biases, reduces variance, and improves accuracy.\n",
    "\n",
    "Imputing Missing Values: Using SimpleImputer with a strategy of median to fill in missing values can help improve model accuracy by providing reasonable estimates for missing data, rather than discarding these rows entirely."
   ]
  }
 ],
 "metadata": {
  "interpreter": {
   "hash": "4d722d3adfa415172c1f5238b519fb86b488acdae450fd691ab06c09f4ca9173"
  },
  "kernelspec": {
   "display_name": "Python 3.9.7 64-bit ('ml3950': conda)",
   "language": "python",
   "name": "python3"
  },
  "language_info": {
   "codemirror_mode": {
    "name": "ipython",
    "version": 3
   },
   "file_extension": ".py",
   "mimetype": "text/x-python",
   "name": "python",
   "nbconvert_exporter": "python",
   "pygments_lexer": "ipython3",
   "version": "3.11.4"
  },
  "orig_nbformat": 4
 },
 "nbformat": 4,
 "nbformat_minor": 2
}
